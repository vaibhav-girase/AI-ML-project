{
 "cells": [
  {
   "cell_type": "markdown",
   "id": "2ojd4Xnx98Oo",
   "metadata": {
    "id": "2ojd4Xnx98Oo"
   },
   "source": [
    "1. **Introduction**\n",
    "\n",
    "The study examines the effectiveness and potential of machine learning algorithms by taking into account a number of practical issues. Machine learning algorithms are utilized to anticipate Heart disease. There are millions of people who are diagnosed with this disease, which is a fatal health issue. In such cases, it is very important to have a kind of tool which could be used for early detection of this disease. Machine learning algorithms are a promising technique for early detection since they can predict the likelihood of developing cardiac disease. These algorithms may scan a substantial amount of patient data and identify patterns and trends that can help in the early detection of cardiac illness. The main goal of this task is to build a model using machine learning algorithms that could be used by medical professionals to make wise decisions.\n",
    "\n",
    "2. **Methods**\n",
    "*KNN Model*\n",
    "\n",
    "An appreciated machine learning approach for classification and regression tasks is the K-Nearest Neighbors (KNN) algorithm. KNN can be used in the framework of heart disease prediction for estimating the risk of heart disease based on patient data. The KNN algorithm categorises unclassified data points based on their proximity and similarity to other accessible data points. The main premise of this technique is that related data points can be found nearby. Due to its simplicity of usage, suitability for solving classification and regression issues, and the ease with which the findings it produces may be interpreted, it is frequently used to resolve issues in a variety of industries. We must first preprocess and normalize the dataset including the patient data before we can construct the KNN model for heart disease prediction. The trained model can then be used in the testing set of new patients to forecast their likelihood of developing heart disease. We assess the model's accuracy using a number of metrics, including precision, recall, and F1-score.\n",
    "\n",
    "*SVM Model*\n",
    "\n",
    "Heart disease can be predicted using the potent “machine learning algorithm Support Vector Machine (SVM)”. A “supervised learning” method called SVM uses labeled data to divide fresh data into many categories. The SVM algorithm may evaluate patient data in the context of heart disease prediction and categorize patients as either having heart disease or not. Before establishing a Support Vector Machine (SVM) model for coronary artery bypass graft prediction, we need to gather information about patients on age, gender, blood pressure, cholesterol levels, and other crucial parameters required. SVM classifiers excel in high-dimensional space performance and have exceptional accuracy since they only employ a portion of the training data, which uses less memory. It works rather effectively when there is a big gap between the classes. High-dimensional spaces are ideal for SVM because they make effective use of memory and are useful when the number of dimensions exceeds the number of samples. The SVM algorithm will be trained using this data to differentiate between people who are most likely to develop cardiovascular conditions and those who are not. Using patient data and the SVM model that has been trained, it is possible to predict the risk that new patients will ultimately get heart disease. To evaluate the model's accuracy, a number of determinants can be employed such as precision, recall, and F1-score. Overall, an SVM model can be a helpful tool for predicting cardiac disease, can assist health care providers in making knowledgeable decisions, and might improve patient outcomes.\n",
    "\n",
    "*Random Forest Model*\n",
    "\n",
    "The widely-used “machine learning technique” known as “random forest” was created by “Leo Breinman and Adele Cutler”. Random Forest can be used to analyze different risk variables in the context of heart disease prediction and produce a forecast of whether a person is at high risk of getting the condition. The approach creates numerous decision trees using a subset of features that are randomly chosen from the dataset. A random subset of the data is used to train each tree in the forest, and each tree utilizes a distinct set of characteristics. In order to arrive at a final forecast, the algorithm integrates the results of all the decision trees in the forest. The ability to handle huge datasets with numerous features, the handling of missing data, and the resistance to overfitting are only a few benefits of random forest for heart disease prediction. The dataset can then be divided into training and testing sets, and the model can be trained using the training set. The Random Forest algorithm will build several decision trees during the training phase using subsets of the training set's samples and features. The algorithm may also shed light on the key elements that affect the likelihood of developing heart disease. In conclusion, the random forest algorithm has been applied successfully in numerous research and is an effective tool for predicting cardiac disease. By utilizing this method, healthcare professionals may create more precise forecasts and superior treatment plans for their patients.\n"
   ]
  },
  {
   "cell_type": "markdown",
   "id": "ALExz3D2AUph",
   "metadata": {
    "id": "ALExz3D2AUph"
   },
   "source": [
    "# 3. Results and Analysis"
   ]
  },
  {
   "cell_type": "markdown",
   "id": "XwmrtKKJ_i5_",
   "metadata": {
    "id": "XwmrtKKJ_i5_"
   },
   "source": [
    "##Importing essential libraries"
   ]
  },
  {
   "cell_type": "code",
   "execution_count": 1,
   "id": "e75dcada",
   "metadata": {
    "id": "e75dcada"
   },
   "outputs": [],
   "source": [
    "import pandas as pd\n",
    "import numpy as np\n",
    "import matplotlib.pyplot as plt\n",
    "import seaborn as sns\n",
    "from sklearn.preprocessing import StandardScaler\n",
    "from sklearn.metrics import accuracy_score\n",
    "from sklearn.metrics import confusion_matrix\n",
    "from sklearn.metrics import f1_score\n",
    "from sklearn.model_selection import train_test_split\n",
    "import warnings\n",
    "warnings.filterwarnings('ignore')\n",
    "import sklearn.neighbors\n",
    "from sklearn.neighbors import KNeighborsClassifier\n",
    "from sklearn.ensemble import RandomForestClassifier"
   ]
  },
  {
   "cell_type": "markdown",
   "id": "55efdfaf",
   "metadata": {
    "id": "55efdfaf"
   },
   "source": [
    "## Reading the Dataset"
   ]
  },
  {
   "cell_type": "code",
   "execution_count": 3,
   "id": "c4b8e747",
   "metadata": {
    "id": "c4b8e747"
   },
   "outputs": [],
   "source": [
    "hdf = pd.read_csv(\"Heart_Disease_Prediction (2).csv\")"
   ]
  },
  {
   "cell_type": "markdown",
   "id": "Vm_e5BRyBbrQ",
   "metadata": {
    "id": "Vm_e5BRyBbrQ"
   },
   "source": [
    "A visual of how the “Heart_Disease_Prediction” dataset has been loaded into Jupyter by using “.read”. The figure also shows how the dataset is imported as a data frame “hdf” into Jupyter Notebook. Additionally, the figure gives a clear picture of the contents of the dataframe created. "
   ]
  },
  {
   "cell_type": "markdown",
   "id": "a4fbc4c1",
   "metadata": {
    "id": "a4fbc4c1"
   },
   "source": [
    "## Displaying the data frame"
   ]
  },
  {
   "cell_type": "code",
   "execution_count": 4,
   "id": "01e0bf14",
   "metadata": {
    "colab": {
     "base_uri": "https://localhost:8080/",
     "height": 424
    },
    "id": "01e0bf14",
    "outputId": "59acad64-1262-451a-f6a1-f5976ced4ac1"
   },
   "outputs": [
    {
     "data": {
      "text/html": [
       "<div>\n",
       "<style scoped>\n",
       "    .dataframe tbody tr th:only-of-type {\n",
       "        vertical-align: middle;\n",
       "    }\n",
       "\n",
       "    .dataframe tbody tr th {\n",
       "        vertical-align: top;\n",
       "    }\n",
       "\n",
       "    .dataframe thead th {\n",
       "        text-align: right;\n",
       "    }\n",
       "</style>\n",
       "<table border=\"1\" class=\"dataframe\">\n",
       "  <thead>\n",
       "    <tr style=\"text-align: right;\">\n",
       "      <th></th>\n",
       "      <th>Age</th>\n",
       "      <th>Sex</th>\n",
       "      <th>Chest pain type</th>\n",
       "      <th>BP</th>\n",
       "      <th>Cholesterol</th>\n",
       "      <th>FBS over 120</th>\n",
       "      <th>EKG results</th>\n",
       "      <th>Max HR</th>\n",
       "      <th>Exercise angina</th>\n",
       "      <th>ST depression</th>\n",
       "      <th>Slope of ST</th>\n",
       "      <th>Number of vessels fluro</th>\n",
       "      <th>Thallium</th>\n",
       "      <th>Heart Disease</th>\n",
       "    </tr>\n",
       "  </thead>\n",
       "  <tbody>\n",
       "    <tr>\n",
       "      <th>0</th>\n",
       "      <td>70</td>\n",
       "      <td>1</td>\n",
       "      <td>4</td>\n",
       "      <td>130</td>\n",
       "      <td>322</td>\n",
       "      <td>0</td>\n",
       "      <td>2</td>\n",
       "      <td>109</td>\n",
       "      <td>0</td>\n",
       "      <td>2.4</td>\n",
       "      <td>2</td>\n",
       "      <td>3</td>\n",
       "      <td>3</td>\n",
       "      <td>Presence</td>\n",
       "    </tr>\n",
       "    <tr>\n",
       "      <th>1</th>\n",
       "      <td>67</td>\n",
       "      <td>0</td>\n",
       "      <td>3</td>\n",
       "      <td>115</td>\n",
       "      <td>564</td>\n",
       "      <td>0</td>\n",
       "      <td>2</td>\n",
       "      <td>160</td>\n",
       "      <td>0</td>\n",
       "      <td>1.6</td>\n",
       "      <td>2</td>\n",
       "      <td>0</td>\n",
       "      <td>7</td>\n",
       "      <td>Absence</td>\n",
       "    </tr>\n",
       "    <tr>\n",
       "      <th>2</th>\n",
       "      <td>57</td>\n",
       "      <td>1</td>\n",
       "      <td>2</td>\n",
       "      <td>124</td>\n",
       "      <td>261</td>\n",
       "      <td>0</td>\n",
       "      <td>0</td>\n",
       "      <td>141</td>\n",
       "      <td>0</td>\n",
       "      <td>0.3</td>\n",
       "      <td>1</td>\n",
       "      <td>0</td>\n",
       "      <td>7</td>\n",
       "      <td>Presence</td>\n",
       "    </tr>\n",
       "    <tr>\n",
       "      <th>3</th>\n",
       "      <td>64</td>\n",
       "      <td>1</td>\n",
       "      <td>4</td>\n",
       "      <td>128</td>\n",
       "      <td>263</td>\n",
       "      <td>0</td>\n",
       "      <td>0</td>\n",
       "      <td>105</td>\n",
       "      <td>1</td>\n",
       "      <td>0.2</td>\n",
       "      <td>2</td>\n",
       "      <td>1</td>\n",
       "      <td>7</td>\n",
       "      <td>Absence</td>\n",
       "    </tr>\n",
       "    <tr>\n",
       "      <th>4</th>\n",
       "      <td>74</td>\n",
       "      <td>0</td>\n",
       "      <td>2</td>\n",
       "      <td>120</td>\n",
       "      <td>269</td>\n",
       "      <td>0</td>\n",
       "      <td>2</td>\n",
       "      <td>121</td>\n",
       "      <td>1</td>\n",
       "      <td>0.2</td>\n",
       "      <td>1</td>\n",
       "      <td>1</td>\n",
       "      <td>3</td>\n",
       "      <td>Absence</td>\n",
       "    </tr>\n",
       "    <tr>\n",
       "      <th>...</th>\n",
       "      <td>...</td>\n",
       "      <td>...</td>\n",
       "      <td>...</td>\n",
       "      <td>...</td>\n",
       "      <td>...</td>\n",
       "      <td>...</td>\n",
       "      <td>...</td>\n",
       "      <td>...</td>\n",
       "      <td>...</td>\n",
       "      <td>...</td>\n",
       "      <td>...</td>\n",
       "      <td>...</td>\n",
       "      <td>...</td>\n",
       "      <td>...</td>\n",
       "    </tr>\n",
       "    <tr>\n",
       "      <th>265</th>\n",
       "      <td>52</td>\n",
       "      <td>1</td>\n",
       "      <td>3</td>\n",
       "      <td>172</td>\n",
       "      <td>199</td>\n",
       "      <td>1</td>\n",
       "      <td>0</td>\n",
       "      <td>162</td>\n",
       "      <td>0</td>\n",
       "      <td>0.5</td>\n",
       "      <td>1</td>\n",
       "      <td>0</td>\n",
       "      <td>7</td>\n",
       "      <td>Absence</td>\n",
       "    </tr>\n",
       "    <tr>\n",
       "      <th>266</th>\n",
       "      <td>44</td>\n",
       "      <td>1</td>\n",
       "      <td>2</td>\n",
       "      <td>120</td>\n",
       "      <td>263</td>\n",
       "      <td>0</td>\n",
       "      <td>0</td>\n",
       "      <td>173</td>\n",
       "      <td>0</td>\n",
       "      <td>0.0</td>\n",
       "      <td>1</td>\n",
       "      <td>0</td>\n",
       "      <td>7</td>\n",
       "      <td>Absence</td>\n",
       "    </tr>\n",
       "    <tr>\n",
       "      <th>267</th>\n",
       "      <td>56</td>\n",
       "      <td>0</td>\n",
       "      <td>2</td>\n",
       "      <td>140</td>\n",
       "      <td>294</td>\n",
       "      <td>0</td>\n",
       "      <td>2</td>\n",
       "      <td>153</td>\n",
       "      <td>0</td>\n",
       "      <td>1.3</td>\n",
       "      <td>2</td>\n",
       "      <td>0</td>\n",
       "      <td>3</td>\n",
       "      <td>Absence</td>\n",
       "    </tr>\n",
       "    <tr>\n",
       "      <th>268</th>\n",
       "      <td>57</td>\n",
       "      <td>1</td>\n",
       "      <td>4</td>\n",
       "      <td>140</td>\n",
       "      <td>192</td>\n",
       "      <td>0</td>\n",
       "      <td>0</td>\n",
       "      <td>148</td>\n",
       "      <td>0</td>\n",
       "      <td>0.4</td>\n",
       "      <td>2</td>\n",
       "      <td>0</td>\n",
       "      <td>6</td>\n",
       "      <td>Absence</td>\n",
       "    </tr>\n",
       "    <tr>\n",
       "      <th>269</th>\n",
       "      <td>67</td>\n",
       "      <td>1</td>\n",
       "      <td>4</td>\n",
       "      <td>160</td>\n",
       "      <td>286</td>\n",
       "      <td>0</td>\n",
       "      <td>2</td>\n",
       "      <td>108</td>\n",
       "      <td>1</td>\n",
       "      <td>1.5</td>\n",
       "      <td>2</td>\n",
       "      <td>3</td>\n",
       "      <td>3</td>\n",
       "      <td>Presence</td>\n",
       "    </tr>\n",
       "  </tbody>\n",
       "</table>\n",
       "<p>270 rows × 14 columns</p>\n",
       "</div>"
      ],
      "text/plain": [
       "     Age  Sex  Chest pain type   BP  Cholesterol  FBS over 120  EKG results  \\\n",
       "0     70    1                4  130          322             0            2   \n",
       "1     67    0                3  115          564             0            2   \n",
       "2     57    1                2  124          261             0            0   \n",
       "3     64    1                4  128          263             0            0   \n",
       "4     74    0                2  120          269             0            2   \n",
       "..   ...  ...              ...  ...          ...           ...          ...   \n",
       "265   52    1                3  172          199             1            0   \n",
       "266   44    1                2  120          263             0            0   \n",
       "267   56    0                2  140          294             0            2   \n",
       "268   57    1                4  140          192             0            0   \n",
       "269   67    1                4  160          286             0            2   \n",
       "\n",
       "     Max HR  Exercise angina  ST depression  Slope of ST  \\\n",
       "0       109                0            2.4            2   \n",
       "1       160                0            1.6            2   \n",
       "2       141                0            0.3            1   \n",
       "3       105                1            0.2            2   \n",
       "4       121                1            0.2            1   \n",
       "..      ...              ...            ...          ...   \n",
       "265     162                0            0.5            1   \n",
       "266     173                0            0.0            1   \n",
       "267     153                0            1.3            2   \n",
       "268     148                0            0.4            2   \n",
       "269     108                1            1.5            2   \n",
       "\n",
       "     Number of vessels fluro  Thallium Heart Disease  \n",
       "0                          3         3      Presence  \n",
       "1                          0         7       Absence  \n",
       "2                          0         7      Presence  \n",
       "3                          1         7       Absence  \n",
       "4                          1         3       Absence  \n",
       "..                       ...       ...           ...  \n",
       "265                        0         7       Absence  \n",
       "266                        0         7       Absence  \n",
       "267                        0         3       Absence  \n",
       "268                        0         6       Absence  \n",
       "269                        3         3      Presence  \n",
       "\n",
       "[270 rows x 14 columns]"
      ]
     },
     "execution_count": 4,
     "metadata": {},
     "output_type": "execute_result"
    }
   ],
   "source": [
    "hdf"
   ]
  },
  {
   "cell_type": "markdown",
   "id": "14e4fdc0",
   "metadata": {
    "id": "14e4fdc0"
   },
   "source": [
    "## Descriptive Summary"
   ]
  },
  {
   "cell_type": "code",
   "execution_count": 5,
   "id": "0b9a8050",
   "metadata": {
    "colab": {
     "base_uri": "https://localhost:8080/",
     "height": 344
    },
    "id": "0b9a8050",
    "outputId": "42692ef5-dd1b-4f50-e246-33c1545d4d79"
   },
   "outputs": [
    {
     "data": {
      "text/html": [
       "<div>\n",
       "<style scoped>\n",
       "    .dataframe tbody tr th:only-of-type {\n",
       "        vertical-align: middle;\n",
       "    }\n",
       "\n",
       "    .dataframe tbody tr th {\n",
       "        vertical-align: top;\n",
       "    }\n",
       "\n",
       "    .dataframe thead th {\n",
       "        text-align: right;\n",
       "    }\n",
       "</style>\n",
       "<table border=\"1\" class=\"dataframe\">\n",
       "  <thead>\n",
       "    <tr style=\"text-align: right;\">\n",
       "      <th></th>\n",
       "      <th>Age</th>\n",
       "      <th>Sex</th>\n",
       "      <th>Chest pain type</th>\n",
       "      <th>BP</th>\n",
       "      <th>Cholesterol</th>\n",
       "      <th>FBS over 120</th>\n",
       "      <th>EKG results</th>\n",
       "      <th>Max HR</th>\n",
       "      <th>Exercise angina</th>\n",
       "      <th>ST depression</th>\n",
       "      <th>Slope of ST</th>\n",
       "      <th>Number of vessels fluro</th>\n",
       "      <th>Thallium</th>\n",
       "    </tr>\n",
       "  </thead>\n",
       "  <tbody>\n",
       "    <tr>\n",
       "      <th>count</th>\n",
       "      <td>270.000000</td>\n",
       "      <td>270.000000</td>\n",
       "      <td>270.000000</td>\n",
       "      <td>270.000000</td>\n",
       "      <td>270.000000</td>\n",
       "      <td>270.000000</td>\n",
       "      <td>270.000000</td>\n",
       "      <td>270.000000</td>\n",
       "      <td>270.000000</td>\n",
       "      <td>270.00000</td>\n",
       "      <td>270.000000</td>\n",
       "      <td>270.000000</td>\n",
       "      <td>270.000000</td>\n",
       "    </tr>\n",
       "    <tr>\n",
       "      <th>mean</th>\n",
       "      <td>54.433333</td>\n",
       "      <td>0.677778</td>\n",
       "      <td>3.174074</td>\n",
       "      <td>131.344444</td>\n",
       "      <td>249.659259</td>\n",
       "      <td>0.148148</td>\n",
       "      <td>1.022222</td>\n",
       "      <td>149.677778</td>\n",
       "      <td>0.329630</td>\n",
       "      <td>1.05000</td>\n",
       "      <td>1.585185</td>\n",
       "      <td>0.670370</td>\n",
       "      <td>4.696296</td>\n",
       "    </tr>\n",
       "    <tr>\n",
       "      <th>std</th>\n",
       "      <td>9.109067</td>\n",
       "      <td>0.468195</td>\n",
       "      <td>0.950090</td>\n",
       "      <td>17.861608</td>\n",
       "      <td>51.686237</td>\n",
       "      <td>0.355906</td>\n",
       "      <td>0.997891</td>\n",
       "      <td>23.165717</td>\n",
       "      <td>0.470952</td>\n",
       "      <td>1.14521</td>\n",
       "      <td>0.614390</td>\n",
       "      <td>0.943896</td>\n",
       "      <td>1.940659</td>\n",
       "    </tr>\n",
       "    <tr>\n",
       "      <th>min</th>\n",
       "      <td>29.000000</td>\n",
       "      <td>0.000000</td>\n",
       "      <td>1.000000</td>\n",
       "      <td>94.000000</td>\n",
       "      <td>126.000000</td>\n",
       "      <td>0.000000</td>\n",
       "      <td>0.000000</td>\n",
       "      <td>71.000000</td>\n",
       "      <td>0.000000</td>\n",
       "      <td>0.00000</td>\n",
       "      <td>1.000000</td>\n",
       "      <td>0.000000</td>\n",
       "      <td>3.000000</td>\n",
       "    </tr>\n",
       "    <tr>\n",
       "      <th>25%</th>\n",
       "      <td>48.000000</td>\n",
       "      <td>0.000000</td>\n",
       "      <td>3.000000</td>\n",
       "      <td>120.000000</td>\n",
       "      <td>213.000000</td>\n",
       "      <td>0.000000</td>\n",
       "      <td>0.000000</td>\n",
       "      <td>133.000000</td>\n",
       "      <td>0.000000</td>\n",
       "      <td>0.00000</td>\n",
       "      <td>1.000000</td>\n",
       "      <td>0.000000</td>\n",
       "      <td>3.000000</td>\n",
       "    </tr>\n",
       "    <tr>\n",
       "      <th>50%</th>\n",
       "      <td>55.000000</td>\n",
       "      <td>1.000000</td>\n",
       "      <td>3.000000</td>\n",
       "      <td>130.000000</td>\n",
       "      <td>245.000000</td>\n",
       "      <td>0.000000</td>\n",
       "      <td>2.000000</td>\n",
       "      <td>153.500000</td>\n",
       "      <td>0.000000</td>\n",
       "      <td>0.80000</td>\n",
       "      <td>2.000000</td>\n",
       "      <td>0.000000</td>\n",
       "      <td>3.000000</td>\n",
       "    </tr>\n",
       "    <tr>\n",
       "      <th>75%</th>\n",
       "      <td>61.000000</td>\n",
       "      <td>1.000000</td>\n",
       "      <td>4.000000</td>\n",
       "      <td>140.000000</td>\n",
       "      <td>280.000000</td>\n",
       "      <td>0.000000</td>\n",
       "      <td>2.000000</td>\n",
       "      <td>166.000000</td>\n",
       "      <td>1.000000</td>\n",
       "      <td>1.60000</td>\n",
       "      <td>2.000000</td>\n",
       "      <td>1.000000</td>\n",
       "      <td>7.000000</td>\n",
       "    </tr>\n",
       "    <tr>\n",
       "      <th>max</th>\n",
       "      <td>77.000000</td>\n",
       "      <td>1.000000</td>\n",
       "      <td>4.000000</td>\n",
       "      <td>200.000000</td>\n",
       "      <td>564.000000</td>\n",
       "      <td>1.000000</td>\n",
       "      <td>2.000000</td>\n",
       "      <td>202.000000</td>\n",
       "      <td>1.000000</td>\n",
       "      <td>6.20000</td>\n",
       "      <td>3.000000</td>\n",
       "      <td>3.000000</td>\n",
       "      <td>7.000000</td>\n",
       "    </tr>\n",
       "  </tbody>\n",
       "</table>\n",
       "</div>"
      ],
      "text/plain": [
       "              Age         Sex  Chest pain type          BP  Cholesterol  \\\n",
       "count  270.000000  270.000000       270.000000  270.000000   270.000000   \n",
       "mean    54.433333    0.677778         3.174074  131.344444   249.659259   \n",
       "std      9.109067    0.468195         0.950090   17.861608    51.686237   \n",
       "min     29.000000    0.000000         1.000000   94.000000   126.000000   \n",
       "25%     48.000000    0.000000         3.000000  120.000000   213.000000   \n",
       "50%     55.000000    1.000000         3.000000  130.000000   245.000000   \n",
       "75%     61.000000    1.000000         4.000000  140.000000   280.000000   \n",
       "max     77.000000    1.000000         4.000000  200.000000   564.000000   \n",
       "\n",
       "       FBS over 120  EKG results      Max HR  Exercise angina  ST depression  \\\n",
       "count    270.000000   270.000000  270.000000       270.000000      270.00000   \n",
       "mean       0.148148     1.022222  149.677778         0.329630        1.05000   \n",
       "std        0.355906     0.997891   23.165717         0.470952        1.14521   \n",
       "min        0.000000     0.000000   71.000000         0.000000        0.00000   \n",
       "25%        0.000000     0.000000  133.000000         0.000000        0.00000   \n",
       "50%        0.000000     2.000000  153.500000         0.000000        0.80000   \n",
       "75%        0.000000     2.000000  166.000000         1.000000        1.60000   \n",
       "max        1.000000     2.000000  202.000000         1.000000        6.20000   \n",
       "\n",
       "       Slope of ST  Number of vessels fluro    Thallium  \n",
       "count   270.000000               270.000000  270.000000  \n",
       "mean      1.585185                 0.670370    4.696296  \n",
       "std       0.614390                 0.943896    1.940659  \n",
       "min       1.000000                 0.000000    3.000000  \n",
       "25%       1.000000                 0.000000    3.000000  \n",
       "50%       2.000000                 0.000000    3.000000  \n",
       "75%       2.000000                 1.000000    7.000000  \n",
       "max       3.000000                 3.000000    7.000000  "
      ]
     },
     "execution_count": 5,
     "metadata": {},
     "output_type": "execute_result"
    }
   ],
   "source": [
    "hdf.describe()"
   ]
  },
  {
   "cell_type": "markdown",
   "id": "3897bddd",
   "metadata": {
    "id": "3897bddd"
   },
   "source": [
    "## Data frame overview"
   ]
  },
  {
   "cell_type": "code",
   "execution_count": 6,
   "id": "63e8eb66",
   "metadata": {
    "colab": {
     "base_uri": "https://localhost:8080/"
    },
    "id": "63e8eb66",
    "outputId": "082f3e44-5e7e-4538-df6f-2c030a81cd47"
   },
   "outputs": [
    {
     "data": {
      "text/plain": [
       "(270, 14)"
      ]
     },
     "execution_count": 6,
     "metadata": {},
     "output_type": "execute_result"
    }
   ],
   "source": [
    "hdf.shape"
   ]
  },
  {
   "cell_type": "code",
   "execution_count": 7,
   "id": "ccb9bee2",
   "metadata": {
    "colab": {
     "base_uri": "https://localhost:8080/",
     "height": 206
    },
    "id": "ccb9bee2",
    "outputId": "c23cab56-af2f-4efc-b548-58747713062e"
   },
   "outputs": [
    {
     "data": {
      "text/html": [
       "<div>\n",
       "<style scoped>\n",
       "    .dataframe tbody tr th:only-of-type {\n",
       "        vertical-align: middle;\n",
       "    }\n",
       "\n",
       "    .dataframe tbody tr th {\n",
       "        vertical-align: top;\n",
       "    }\n",
       "\n",
       "    .dataframe thead th {\n",
       "        text-align: right;\n",
       "    }\n",
       "</style>\n",
       "<table border=\"1\" class=\"dataframe\">\n",
       "  <thead>\n",
       "    <tr style=\"text-align: right;\">\n",
       "      <th></th>\n",
       "      <th>Age</th>\n",
       "      <th>Sex</th>\n",
       "      <th>Chest pain type</th>\n",
       "      <th>BP</th>\n",
       "      <th>Cholesterol</th>\n",
       "      <th>FBS over 120</th>\n",
       "      <th>EKG results</th>\n",
       "      <th>Max HR</th>\n",
       "      <th>Exercise angina</th>\n",
       "      <th>ST depression</th>\n",
       "      <th>Slope of ST</th>\n",
       "      <th>Number of vessels fluro</th>\n",
       "      <th>Thallium</th>\n",
       "      <th>Heart Disease</th>\n",
       "    </tr>\n",
       "  </thead>\n",
       "  <tbody>\n",
       "    <tr>\n",
       "      <th>0</th>\n",
       "      <td>70</td>\n",
       "      <td>1</td>\n",
       "      <td>4</td>\n",
       "      <td>130</td>\n",
       "      <td>322</td>\n",
       "      <td>0</td>\n",
       "      <td>2</td>\n",
       "      <td>109</td>\n",
       "      <td>0</td>\n",
       "      <td>2.4</td>\n",
       "      <td>2</td>\n",
       "      <td>3</td>\n",
       "      <td>3</td>\n",
       "      <td>Presence</td>\n",
       "    </tr>\n",
       "    <tr>\n",
       "      <th>1</th>\n",
       "      <td>67</td>\n",
       "      <td>0</td>\n",
       "      <td>3</td>\n",
       "      <td>115</td>\n",
       "      <td>564</td>\n",
       "      <td>0</td>\n",
       "      <td>2</td>\n",
       "      <td>160</td>\n",
       "      <td>0</td>\n",
       "      <td>1.6</td>\n",
       "      <td>2</td>\n",
       "      <td>0</td>\n",
       "      <td>7</td>\n",
       "      <td>Absence</td>\n",
       "    </tr>\n",
       "    <tr>\n",
       "      <th>2</th>\n",
       "      <td>57</td>\n",
       "      <td>1</td>\n",
       "      <td>2</td>\n",
       "      <td>124</td>\n",
       "      <td>261</td>\n",
       "      <td>0</td>\n",
       "      <td>0</td>\n",
       "      <td>141</td>\n",
       "      <td>0</td>\n",
       "      <td>0.3</td>\n",
       "      <td>1</td>\n",
       "      <td>0</td>\n",
       "      <td>7</td>\n",
       "      <td>Presence</td>\n",
       "    </tr>\n",
       "    <tr>\n",
       "      <th>3</th>\n",
       "      <td>64</td>\n",
       "      <td>1</td>\n",
       "      <td>4</td>\n",
       "      <td>128</td>\n",
       "      <td>263</td>\n",
       "      <td>0</td>\n",
       "      <td>0</td>\n",
       "      <td>105</td>\n",
       "      <td>1</td>\n",
       "      <td>0.2</td>\n",
       "      <td>2</td>\n",
       "      <td>1</td>\n",
       "      <td>7</td>\n",
       "      <td>Absence</td>\n",
       "    </tr>\n",
       "    <tr>\n",
       "      <th>4</th>\n",
       "      <td>74</td>\n",
       "      <td>0</td>\n",
       "      <td>2</td>\n",
       "      <td>120</td>\n",
       "      <td>269</td>\n",
       "      <td>0</td>\n",
       "      <td>2</td>\n",
       "      <td>121</td>\n",
       "      <td>1</td>\n",
       "      <td>0.2</td>\n",
       "      <td>1</td>\n",
       "      <td>1</td>\n",
       "      <td>3</td>\n",
       "      <td>Absence</td>\n",
       "    </tr>\n",
       "  </tbody>\n",
       "</table>\n",
       "</div>"
      ],
      "text/plain": [
       "   Age  Sex  Chest pain type   BP  Cholesterol  FBS over 120  EKG results  \\\n",
       "0   70    1                4  130          322             0            2   \n",
       "1   67    0                3  115          564             0            2   \n",
       "2   57    1                2  124          261             0            0   \n",
       "3   64    1                4  128          263             0            0   \n",
       "4   74    0                2  120          269             0            2   \n",
       "\n",
       "   Max HR  Exercise angina  ST depression  Slope of ST  \\\n",
       "0     109                0            2.4            2   \n",
       "1     160                0            1.6            2   \n",
       "2     141                0            0.3            1   \n",
       "3     105                1            0.2            2   \n",
       "4     121                1            0.2            1   \n",
       "\n",
       "   Number of vessels fluro  Thallium Heart Disease  \n",
       "0                        3         3      Presence  \n",
       "1                        0         7       Absence  \n",
       "2                        0         7      Presence  \n",
       "3                        1         7       Absence  \n",
       "4                        1         3       Absence  "
      ]
     },
     "execution_count": 7,
     "metadata": {},
     "output_type": "execute_result"
    }
   ],
   "source": [
    "hdf.head()"
   ]
  },
  {
   "cell_type": "markdown",
   "id": "ab151b4e",
   "metadata": {
    "id": "ab151b4e"
   },
   "source": [
    "## Checking for null values"
   ]
  },
  {
   "cell_type": "code",
   "execution_count": 8,
   "id": "3b1a175a",
   "metadata": {
    "colab": {
     "base_uri": "https://localhost:8080/"
    },
    "id": "3b1a175a",
    "outputId": "2b6d2c81-745c-45fe-e8e2-32cbe3e44ad5"
   },
   "outputs": [
    {
     "data": {
      "text/plain": [
       "Age                        0\n",
       "Sex                        0\n",
       "Chest pain type            0\n",
       "BP                         0\n",
       "Cholesterol                0\n",
       "FBS over 120               0\n",
       "EKG results                0\n",
       "Max HR                     0\n",
       "Exercise angina            0\n",
       "ST depression              0\n",
       "Slope of ST                0\n",
       "Number of vessels fluro    0\n",
       "Thallium                   0\n",
       "Heart Disease              0\n",
       "dtype: int64"
      ]
     },
     "execution_count": 8,
     "metadata": {},
     "output_type": "execute_result"
    }
   ],
   "source": [
    "hdf.isnull().sum()"
   ]
  },
  {
   "cell_type": "markdown",
   "id": "eHKL2_i7BQfo",
   "metadata": {
    "id": "eHKL2_i7BQfo"
   },
   "source": [
    "The Python code “.isnull.sum()” is applied for checking the “total number of null values” present in the given dataset. It can be noted from the above figure that no null values are present in the dataframe."
   ]
  },
  {
   "cell_type": "markdown",
   "id": "140a3f6a",
   "metadata": {
    "id": "140a3f6a"
   },
   "source": [
    "## Checking for imbalanced data based on \"Sex\""
   ]
  },
  {
   "cell_type": "code",
   "execution_count": 9,
   "id": "e775d6a5",
   "metadata": {
    "colab": {
     "base_uri": "https://localhost:8080/"
    },
    "id": "e775d6a5",
    "outputId": "af03e444-3922-488f-ebd3-3f3927e34caa"
   },
   "outputs": [
    {
     "data": {
      "text/plain": [
       "1    183\n",
       "0     87\n",
       "Name: Sex, dtype: int64"
      ]
     },
     "execution_count": 9,
     "metadata": {},
     "output_type": "execute_result"
    }
   ],
   "source": [
    "hdf['Sex'].value_counts()"
   ]
  },
  {
   "cell_type": "markdown",
   "id": "99282f82",
   "metadata": {
    "id": "99282f82"
   },
   "source": [
    "## Checking for imbalanced data based on outcome"
   ]
  },
  {
   "cell_type": "code",
   "execution_count": 10,
   "id": "85328e92",
   "metadata": {
    "colab": {
     "base_uri": "https://localhost:8080/"
    },
    "id": "85328e92",
    "outputId": "ee3e78be-242d-41c5-bb1b-0bd70f7a5dd0"
   },
   "outputs": [
    {
     "data": {
      "text/plain": [
       "Absence     150\n",
       "Presence    120\n",
       "Name: Heart Disease, dtype: int64"
      ]
     },
     "execution_count": 10,
     "metadata": {},
     "output_type": "execute_result"
    }
   ],
   "source": [
    "hdf['Heart Disease'].value_counts()"
   ]
  },
  {
   "cell_type": "code",
   "execution_count": 11,
   "id": "cc032427",
   "metadata": {
    "colab": {
     "base_uri": "https://localhost:8080/",
     "height": 636
    },
    "id": "cc032427",
    "outputId": "70c6e072-6596-4045-8625-b675fbde4dd3"
   },
   "outputs": [
    {
     "data": {
      "text/plain": [
       "<Axes: xlabel='Heart Disease', ylabel='count'>"
      ]
     },
     "execution_count": 11,
     "metadata": {},
     "output_type": "execute_result"
    },
    {
     "data": {
      "image/png": "[encoded data removed]",
      "text/plain": [
       "<Figure size 1000x700 with 1 Axes>"
      ]
     },
     "metadata": {},
     "output_type": "display_data"
    }
   ],
   "source": [
    "fig, ax = plt.subplots(figsize=(10, 7))\n",
    "sns.countplot(x='Heart Disease', data=hdf, palette=['#00FF7F', '#FF3030'])"
   ]
  },
  {
   "cell_type": "markdown",
   "id": "10a7df18",
   "metadata": {
    "id": "10a7df18"
   },
   "source": [
    "# Showing correlation heatmap"
   ]
  },
  {
   "cell_type": "code",
   "execution_count": 12,
   "id": "f3276e4a",
   "metadata": {
    "colab": {
     "base_uri": "https://localhost:8080/",
     "height": 755
    },
    "id": "f3276e4a",
    "outputId": "aabb7c1a-b509-4fc9-f5e9-0e7af1b5d4f1"
   },
   "outputs": [
    {
     "data": {
      "image/png": "[encoded data removed]",
      "text/plain": [
       "<Figure size 1000x700 with 2 Axes>"
      ]
     },
     "metadata": {},
     "output_type": "display_data"
    }
   ],
   "source": [
    "fig, ax = plt.subplots(figsize=(10, 7))\n",
    "sns.heatmap(hdf.corr(), annot=True, cmap='plasma_r', ax=ax)\n",
    "plt.show()"
   ]
  },
  {
   "cell_type": "markdown",
   "id": "7a25909f",
   "metadata": {
    "id": "7a25909f"
   },
   "source": [
    "# KNN"
   ]
  },
  {
   "cell_type": "markdown",
   "id": "c232a802",
   "metadata": {
    "id": "c232a802"
   },
   "source": [
    "## Splitting the dataset into training and testing sets"
   ]
  },
  {
   "cell_type": "code",
   "execution_count": 13,
   "id": "61626af4",
   "metadata": {
    "id": "61626af4"
   },
   "outputs": [],
   "source": [
    "x = hdf.iloc[:, :-2]\n",
    "y = hdf.iloc[:, -1]\n",
    "x_train, x_test, y_train, y_test = train_test_split(x, y, random_state = 0, test_size = 0.35)"
   ]
  },
  {
   "cell_type": "markdown",
   "id": "57315084",
   "metadata": {
    "id": "57315084"
   },
   "source": [
    "## Appylying standard scaler as standardization technique"
   ]
  },
  {
   "cell_type": "code",
   "execution_count": 14,
   "id": "417e419a",
   "metadata": {
    "id": "417e419a"
   },
   "outputs": [],
   "source": [
    "scx = StandardScaler()\n",
    "x_train = scx.fit_transform(x_train)\n",
    "x_test = scx.transform(x_test)"
   ]
  },
  {
   "cell_type": "markdown",
   "id": "63c57310",
   "metadata": {
    "id": "63c57310"
   },
   "source": [
    "## Looking for optimal number of nearest neighbours"
   ]
  },
  {
   "cell_type": "code",
   "execution_count": 15,
   "id": "9e0e07c3",
   "metadata": {
    "colab": {
     "base_uri": "https://localhost:8080/"
    },
    "id": "9e0e07c3",
    "outputId": "31d3a12e-9fe0-4c1e-ec68-d63513484fe6"
   },
   "outputs": [
    {
     "data": {
      "text/plain": [
       "9.746794344808963"
      ]
     },
     "execution_count": 15,
     "metadata": {},
     "output_type": "execute_result"
    }
   ],
   "source": [
    "import math\n",
    "math.sqrt(len(y_test))"
   ]
  },
  {
   "cell_type": "markdown",
   "id": "7459a805",
   "metadata": {
    "id": "7459a805"
   },
   "source": [
    "## Building KNN Model"
   ]
  },
  {
   "cell_type": "code",
   "execution_count": 16,
   "id": "974f28b8",
   "metadata": {
    "colab": {
     "base_uri": "https://localhost:8080/"
    },
    "id": "974f28b8",
    "outputId": "181bc2ff-591b-452d-cbbb-265e9ba00af8"
   },
   "outputs": [
    {
     "data": {
      "text/plain": [
       "array(['Absence', 'Absence', 'Presence', 'Presence', 'Absence', 'Absence',\n",
       "       'Absence', 'Absence', 'Presence', 'Absence', 'Absence', 'Absence',\n",
       "       'Presence', 'Presence', 'Presence', 'Absence', 'Absence',\n",
       "       'Presence', 'Presence', 'Absence', 'Presence', 'Absence',\n",
       "       'Presence', 'Presence', 'Absence', 'Presence', 'Absence',\n",
       "       'Absence', 'Absence', 'Presence', 'Presence', 'Absence',\n",
       "       'Presence', 'Absence', 'Presence', 'Absence', 'Presence',\n",
       "       'Presence', 'Absence', 'Absence', 'Absence', 'Absence', 'Absence',\n",
       "       'Presence', 'Absence', 'Absence', 'Presence', 'Absence',\n",
       "       'Presence', 'Presence', 'Presence', 'Presence', 'Absence',\n",
       "       'Absence', 'Absence', 'Absence', 'Absence', 'Presence', 'Absence',\n",
       "       'Presence', 'Absence', 'Absence', 'Absence', 'Absence', 'Absence',\n",
       "       'Presence', 'Absence', 'Presence', 'Absence', 'Absence',\n",
       "       'Presence', 'Presence', 'Presence', 'Absence', 'Presence',\n",
       "       'Presence', 'Presence', 'Absence', 'Absence', 'Presence',\n",
       "       'Presence', 'Absence', 'Absence', 'Absence', 'Presence', 'Absence',\n",
       "       'Presence', 'Absence', 'Presence', 'Absence', 'Presence',\n",
       "       'Absence', 'Absence', 'Presence', 'Absence'], dtype=object)"
      ]
     },
     "execution_count": 16,
     "metadata": {},
     "output_type": "execute_result"
    }
   ],
   "source": [
    "cf = KNeighborsClassifier(n_neighbors = 9, p = 2, metric = 'euclidean')\n",
    "cf.fit(x_train,y_train)\n",
    "KNeighborsClassifier(metric='euclidean', n_neighbors=9)\n",
    "y_pred = cf.predict(x_test)\n",
    "y_pred"
   ]
  },
  {
   "cell_type": "markdown",
   "id": "V7kiD3b3BGmY",
   "metadata": {
    "id": "V7kiD3b3BGmY"
   },
   "source": [
    "A model is built using the “K-Nearest Neighbors” algorithm and then shows the accuracy score of the model. From the figure it can be noted that the model has an accuracy score of 75%."
   ]
  },
  {
   "cell_type": "markdown",
   "id": "7608c975",
   "metadata": {
    "id": "7608c975"
   },
   "source": [
    "## Displaying Accuracy Score"
   ]
  },
  {
   "cell_type": "code",
   "execution_count": 17,
   "id": "4c642900",
   "metadata": {
    "colab": {
     "base_uri": "https://localhost:8080/"
    },
    "id": "4c642900",
    "outputId": "5cbc36f7-6471-4b7a-cb6d-d7e269128bab"
   },
   "outputs": [
    {
     "name": "stdout",
     "output_type": "stream",
     "text": [
      "Accuracy Score of KNN:  75.78947368421053\n"
     ]
    }
   ],
   "source": [
    "print(\"Accuracy Score of KNN: \", accuracy_score(y_test,y_pred)*100)"
   ]
  },
  {
   "cell_type": "markdown",
   "id": "8c348991",
   "metadata": {
    "id": "8c348991"
   },
   "source": [
    "## Showing confusion matrix heatmap"
   ]
  },
  {
   "cell_type": "code",
   "execution_count": 18,
   "id": "b0cd9c70",
   "metadata": {
    "colab": {
     "base_uri": "https://localhost:8080/"
    },
    "id": "b0cd9c70",
    "outputId": "68d7e998-23ea-47b7-e668-ce8a414bc74f"
   },
   "outputs": [
    {
     "name": "stdout",
     "output_type": "stream",
     "text": [
      "Confusion Matrix\n",
      "[[43 12]\n",
      " [11 29]]\n"
     ]
    }
   ],
   "source": [
    "cfm = confusion_matrix(y_test,y_pred)\n",
    "print(\"Confusion Matrix\")\n",
    "print(cfm)"
   ]
  },
  {
   "cell_type": "code",
   "execution_count": 19,
   "id": "7d15fa69",
   "metadata": {
    "colab": {
     "base_uri": "https://localhost:8080/",
     "height": 599
    },
    "id": "7d15fa69",
    "outputId": "64645037-30ad-497b-e6d5-842da1536826"
   },
   "outputs": [
    {
     "data": {
      "image/png": "[encoded data removed]",
      "text/plain": [
       "<Figure size 1000x700 with 2 Axes>"
      ]
     },
     "metadata": {},
     "output_type": "display_data"
    }
   ],
   "source": [
    "fig, ax = plt.subplots(figsize=(10, 7))\n",
    "sns.heatmap(cfm, annot=True, cmap='afmhot', ax=ax)\n",
    "plt.show()"
   ]
  },
  {
   "cell_type": "markdown",
   "id": "93e3a0d9",
   "metadata": {
    "id": "93e3a0d9"
   },
   "source": [
    "# Building SVM Model"
   ]
  },
  {
   "cell_type": "code",
   "execution_count": 20,
   "id": "af2d2b95",
   "metadata": {
    "colab": {
     "base_uri": "https://localhost:8080/"
    },
    "id": "af2d2b95",
    "outputId": "e7342144-8771-4e18-a9ee-875cc0950daa"
   },
   "outputs": [
    {
     "data": {
      "text/plain": [
       "array(['Absence', 'Absence', 'Presence', 'Presence', 'Absence', 'Absence',\n",
       "       'Absence', 'Absence', 'Presence', 'Absence', 'Absence', 'Absence',\n",
       "       'Presence', 'Presence', 'Presence', 'Absence', 'Absence',\n",
       "       'Presence', 'Presence', 'Absence', 'Presence', 'Absence',\n",
       "       'Presence', 'Presence', 'Presence', 'Absence', 'Absence',\n",
       "       'Absence', 'Absence', 'Absence', 'Presence', 'Absence', 'Presence',\n",
       "       'Absence', 'Presence', 'Absence', 'Presence', 'Presence',\n",
       "       'Absence', 'Absence', 'Absence', 'Absence', 'Absence', 'Absence',\n",
       "       'Absence', 'Absence', 'Presence', 'Absence', 'Presence',\n",
       "       'Presence', 'Presence', 'Presence', 'Absence', 'Absence',\n",
       "       'Absence', 'Absence', 'Absence', 'Presence', 'Absence', 'Presence',\n",
       "       'Absence', 'Absence', 'Absence', 'Absence', 'Absence', 'Presence',\n",
       "       'Presence', 'Presence', 'Absence', 'Absence', 'Presence',\n",
       "       'Absence', 'Presence', 'Absence', 'Presence', 'Absence',\n",
       "       'Presence', 'Absence', 'Absence', 'Presence', 'Presence',\n",
       "       'Absence', 'Presence', 'Absence', 'Presence', 'Absence',\n",
       "       'Presence', 'Presence', 'Presence', 'Absence', 'Presence',\n",
       "       'Absence', 'Absence', 'Presence', 'Absence'], dtype=object)"
      ]
     },
     "execution_count": 20,
     "metadata": {},
     "output_type": "execute_result"
    }
   ],
   "source": [
    "from sklearn import svm\n",
    "cf = svm.SVC(kernel='rbf')\n",
    "cf.fit(x_train,y_train)\n",
    "y_pred = cf.predict(x_test)\n",
    "y_pred"
   ]
  },
  {
   "cell_type": "markdown",
   "id": "WCIAlcdzA_hZ",
   "metadata": {
    "id": "WCIAlcdzA_hZ"
   },
   "source": [
    "A model is built using the “Support Vector Machine” SVM algorithm and then shows the accuracy score of the model. From the figure it can be noted that the model has an accuracy score of about 77%."
   ]
  },
  {
   "cell_type": "markdown",
   "id": "fb4b5cfd",
   "metadata": {
    "id": "fb4b5cfd"
   },
   "source": [
    "## Displaying Accuracy Score"
   ]
  },
  {
   "cell_type": "code",
   "execution_count": 21,
   "id": "0f2e00c9",
   "metadata": {
    "colab": {
     "base_uri": "https://localhost:8080/"
    },
    "id": "0f2e00c9",
    "outputId": "0ee5a8e5-faff-4fee-bebd-b099276a31de"
   },
   "outputs": [
    {
     "name": "stdout",
     "output_type": "stream",
     "text": [
      "Accuracy Score of SVM:  76.84210526315789\n"
     ]
    }
   ],
   "source": [
    "print(\"Accuracy Score of SVM: \", accuracy_score(y_test,y_pred)*100)"
   ]
  },
  {
   "cell_type": "markdown",
   "id": "e7f277ea",
   "metadata": {
    "id": "e7f277ea"
   },
   "source": [
    "## Showing confusion matrix heatmap"
   ]
  },
  {
   "cell_type": "code",
   "execution_count": 22,
   "id": "446bd198",
   "metadata": {
    "colab": {
     "base_uri": "https://localhost:8080/"
    },
    "id": "446bd198",
    "outputId": "9eb72275-dd8c-4939-a5cb-54506f107c7f"
   },
   "outputs": [
    {
     "name": "stdout",
     "output_type": "stream",
     "text": [
      "Confusion Matrix\n",
      "[[44 11]\n",
      " [11 29]]\n"
     ]
    }
   ],
   "source": [
    "cfm = confusion_matrix(y_test,y_pred)\n",
    "print(\"Confusion Matrix\")\n",
    "print(cfm)"
   ]
  },
  {
   "cell_type": "code",
   "execution_count": 23,
   "id": "df15e86c",
   "metadata": {
    "colab": {
     "base_uri": "https://localhost:8080/",
     "height": 599
    },
    "id": "df15e86c",
    "outputId": "49a3e229-c260-4198-dd0f-53a01e47fb31"
   },
   "outputs": [
    {
     "data": {
      "image/png": "[encoded data removed]",
      "text/plain": [
       "<Figure size 1000x700 with 2 Axes>"
      ]
     },
     "metadata": {},
     "output_type": "display_data"
    }
   ],
   "source": [
    "fig, ax = plt.subplots(figsize=(10, 7))\n",
    "sns.heatmap(cfm, annot=True, cmap='viridis_r', ax=ax)\n",
    "plt.show()"
   ]
  },
  {
   "cell_type": "markdown",
   "id": "e051a3f9",
   "metadata": {
    "id": "e051a3f9"
   },
   "source": [
    "# Building Random Forest Model"
   ]
  },
  {
   "cell_type": "code",
   "execution_count": 24,
   "id": "b826d49a",
   "metadata": {
    "colab": {
     "base_uri": "https://localhost:8080/"
    },
    "id": "b826d49a",
    "outputId": "4d1502f6-445b-4dc9-8d1c-e6cbed8032f8"
   },
   "outputs": [
    {
     "data": {
      "text/plain": [
       "array(['Absence', 'Absence', 'Presence', 'Presence', 'Absence',\n",
       "       'Presence', 'Absence', 'Absence', 'Presence', 'Absence', 'Absence',\n",
       "       'Absence', 'Presence', 'Presence', 'Presence', 'Absence',\n",
       "       'Absence', 'Presence', 'Presence', 'Absence', 'Presence',\n",
       "       'Absence', 'Presence', 'Presence', 'Presence', 'Absence',\n",
       "       'Absence', 'Absence', 'Presence', 'Presence', 'Absence',\n",
       "       'Presence', 'Presence', 'Absence', 'Presence', 'Absence',\n",
       "       'Presence', 'Presence', 'Absence', 'Absence', 'Absence', 'Absence',\n",
       "       'Absence', 'Presence', 'Absence', 'Absence', 'Presence', 'Absence',\n",
       "       'Presence', 'Presence', 'Presence', 'Absence', 'Absence',\n",
       "       'Presence', 'Absence', 'Absence', 'Absence', 'Presence', 'Absence',\n",
       "       'Presence', 'Absence', 'Absence', 'Absence', 'Absence', 'Absence',\n",
       "       'Presence', 'Absence', 'Presence', 'Absence', 'Absence', 'Absence',\n",
       "       'Presence', 'Presence', 'Absence', 'Presence', 'Absence',\n",
       "       'Presence', 'Absence', 'Absence', 'Presence', 'Presence',\n",
       "       'Presence', 'Absence', 'Absence', 'Presence', 'Absence',\n",
       "       'Presence', 'Presence', 'Presence', 'Absence', 'Presence',\n",
       "       'Absence', 'Absence', 'Presence', 'Absence'], dtype=object)"
      ]
     },
     "execution_count": 24,
     "metadata": {},
     "output_type": "execute_result"
    }
   ],
   "source": [
    "cf = RandomForestClassifier(n_estimators=500, random_state=12, max_depth=5)\n",
    "cf.fit(x_train,y_train)\n",
    "cf_pred = cf.predict(x_test)\n",
    "cf_pred"
   ]
  },
  {
   "cell_type": "markdown",
   "id": "Bb6963HAApAQ",
   "metadata": {
    "id": "Bb6963HAApAQ"
   },
   "source": [
    "Demonstrated above is how a model is built using the “Random Forest” algorithm and then shows the accuracy score of the model. From the figure it can be noted that the model has an accuracy score of about 82%."
   ]
  },
  {
   "cell_type": "markdown",
   "id": "7acdebd1",
   "metadata": {
    "id": "7acdebd1"
   },
   "source": [
    "## Displaying Accuracy Score"
   ]
  },
  {
   "cell_type": "code",
   "execution_count": 25,
   "id": "42926ac8",
   "metadata": {
    "colab": {
     "base_uri": "https://localhost:8080/"
    },
    "id": "42926ac8",
    "outputId": "8b1c7ece-3094-4d6f-e6b4-996d86d945e5"
   },
   "outputs": [
    {
     "name": "stdout",
     "output_type": "stream",
     "text": [
      "Accuracy of Random Forest: 82.10526315789474\n"
     ]
    }
   ],
   "source": [
    "acs = accuracy_score(y_test, cf_pred)\n",
    "print(\"Accuracy of Random Forest:\", acs*100)"
   ]
  },
  {
   "cell_type": "markdown",
   "id": "d4b63f50",
   "metadata": {
    "id": "d4b63f50"
   },
   "source": [
    "## Showing confusion matrix heatmap"
   ]
  },
  {
   "cell_type": "code",
   "execution_count": 26,
   "id": "01e510d8",
   "metadata": {
    "colab": {
     "base_uri": "https://localhost:8080/"
    },
    "id": "01e510d8",
    "outputId": "4faabbd7-c794-41e9-b091-bda7847b2689"
   },
   "outputs": [
    {
     "name": "stdout",
     "output_type": "stream",
     "text": [
      "Confusion Matrix\n",
      "[[45 10]\n",
      " [ 7 33]]\n"
     ]
    }
   ],
   "source": [
    "rf_cfm = confusion_matrix(y_test, cf_pred)\n",
    "print(\"Confusion Matrix\")\n",
    "print(rf_cfm)"
   ]
  },
  {
   "cell_type": "code",
   "execution_count": 27,
   "id": "3827e958",
   "metadata": {
    "colab": {
     "base_uri": "https://localhost:8080/",
     "height": 605
    },
    "id": "3827e958",
    "outputId": "137cca59-80d9-4e48-ea3d-c7f61d1708e1"
   },
   "outputs": [
    {
     "data": {
      "image/png": "[encoded data removed]",
      "text/plain": [
       "<Figure size 1000x700 with 2 Axes>"
      ]
     },
     "metadata": {},
     "output_type": "display_data"
    }
   ],
   "source": [
    "fig, ax = plt.subplots(figsize=(10, 7))\n",
    "sns.heatmap(rf_cfm, annot=True, cmap='cubehelix_r', ax=ax)\n",
    "plt.show()"
   ]
  },
  {
   "cell_type": "markdown",
   "id": "5b705924",
   "metadata": {
    "id": "5b705924"
   },
   "source": [
    "## Classification Report"
   ]
  },
  {
   "cell_type": "code",
   "execution_count": 28,
   "id": "0efa3a2e",
   "metadata": {
    "colab": {
     "base_uri": "https://localhost:8080/"
    },
    "id": "0efa3a2e",
    "outputId": "e7ef3af5-de99-41e4-e0a8-0d4b036b2ed6"
   },
   "outputs": [
    {
     "name": "stdout",
     "output_type": "stream",
     "text": [
      "              precision    recall  f1-score   support\n",
      "\n",
      "     Absence       0.87      0.82      0.84        55\n",
      "    Presence       0.77      0.82      0.80        40\n",
      "\n",
      "    accuracy                           0.82        95\n",
      "   macro avg       0.82      0.82      0.82        95\n",
      "weighted avg       0.82      0.82      0.82        95\n",
      "\n"
     ]
    }
   ],
   "source": [
    "from sklearn.metrics import classification_report\n",
    "print(classification_report(y_test,cf_pred))"
   ]
  },
  {
   "cell_type": "markdown",
   "id": "n7ZOShw4AH8I",
   "metadata": {
    "id": "n7ZOShw4AH8I"
   },
   "source": [
    "The method by which the predictions of the constructed categorical models are used to generate the “classification report for the given dataset” is clearly depicted in the aforementioned figure. The parameters of the aforementioned report include “precision”, “f1-score”, “recall”, and “support”."
   ]
  },
  {
   "cell_type": "markdown",
   "id": "Z4yUxlVk__Zw",
   "metadata": {
    "id": "Z4yUxlVk__Zw"
   },
   "source": [
    "4. Conclusion\n",
    "\n",
    "The conclusion report of this study compares the performance of three popular machine learning algorithms, KNN, SVM, and “Random Forest, for predicting heart disease”. The findings of the study show that the Random Forest algorithm achieved the highest accuracy and F1-score, followed by SVM and KNN. Additionally, the results also indicate that “feature selection” using “correlation-based feature selection” (CFS) and “principal component analysis” (PCA) can significantly improve the performance of all three algorithms in the areas of heart disease prediction"
   ]
  },
  {
   "cell_type": "code",
   "execution_count": null,
   "id": "gcg_DHNTADJQ",
   "metadata": {
    "id": "gcg_DHNTADJQ"
   },
   "outputs": [],
   "source": []
  },
  {
   "cell_type": "code",
   "execution_count": null,
   "id": "56965ad6",
   "metadata": {},
   "outputs": [],
   "source": []
  }
 ],
 "metadata": {
  "colab": {
   "provenance": []
  },
  "kernelspec": {
   "display_name": "Python 3 (ipykernel)",
   "language": "python",
   "name": "python3"
  },
  "language_info": {
   "codemirror_mode": {
    "name": "ipython",
    "version": 3
   },
   "file_extension": ".py",
   "mimetype": "text/x-python",
   "name": "python",
   "nbconvert_exporter": "python",
   "pygments_lexer": "ipython3",
   "version": "3.10.9"
  }
 },
 "nbformat": 4,
 "nbformat_minor": 5
}
